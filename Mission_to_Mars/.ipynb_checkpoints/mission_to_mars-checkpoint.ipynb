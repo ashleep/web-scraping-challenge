{
 "cells": [
  {
   "cell_type": "code",
   "execution_count": 1,
   "metadata": {},
   "outputs": [],
   "source": [
    "# Dependencies\n",
    "from bs4 import BeautifulSoup as bs\n",
    "import requests\n",
    "from splinter import Browser\n",
    "import pandas as pd\n",
    "from selenium import webdriver\n",
    "import time"
   ]
  },
  {
   "cell_type": "code",
   "execution_count": 2,
   "metadata": {},
   "outputs": [
    {
     "name": "stdout",
     "output_type": "stream",
     "text": [
      "NASA's Perseverance Rover Mission Getting in Shape for Launch\n",
      "Stacking spacecraft components on top of each other is one of the final assembly steps before a mission launches to the Red Planet.\n"
     ]
    }
   ],
   "source": [
    "# Get Most recent NASA News Title\n",
    "\n",
    "driver_path = r'/Users/apounds/Desktop/Bootcamp/Notes/chromedriver'\n",
    "browser = webdriver.Chrome(executable_path=driver_path)\n",
    "browser.get(\"https://mars.nasa.gov/news/\")\n",
    "time.sleep(2)\n",
    "get_element  = browser.find_elements_by_class_name(\"image_and_description_container\")\n",
    "time.sleep(2)\n",
    "NASA_html = get_element[0].get_attribute('innerHTML')\n",
    "time.sleep(2)\n",
    "NASAsoup = bs(NASA_html, 'html.parser')\n",
    "time.sleep(2)\n",
    "NASA_News_Title = NASAsoup.find('h3').text.strip()\n",
    "NASA_News_Paragraph = NASAsoup.find(class_='article_teaser_body').text.strip()\n",
    "\n",
    "\n",
    "\n",
    "browser.close()\n",
    "\n",
    "\n",
    "print(NASA_News_Title)\n",
    "print(NASA_News_Paragraph)\n",
    "\n",
    "\n"
   ]
  },
  {
   "cell_type": "code",
   "execution_count": 3,
   "metadata": {},
   "outputs": [
    {
     "name": "stdout",
     "output_type": "stream",
     "text": [
      "https://www.jpl.nasa.gov/spaceimages/images/mediumsize/PIA16815_ip.jpg\n"
     ]
    }
   ],
   "source": [
    "# Get JPL Mars Space Images - Featured Image\n",
    "\n",
    "driver_path = r'/Users/apounds/Desktop/Bootcamp/Notes/chromedriver'\n",
    "browser = webdriver.Chrome(executable_path=driver_path)\n",
    "browser.get(\"https://www.jpl.nasa.gov/spaceimages/?search=&category=Mars\")\n",
    "time.sleep(2)\n",
    "\n",
    "browser.find_element_by_css_selector('.button').click()\n",
    "time.sleep(2)\n",
    "\n",
    "img_site_html = browser.find_elements_by_class_name(\"fancybox-inner\")\n",
    "\n",
    "image_url = browser.find_element_by_class_name(\"fancybox-image\").get_attribute('src').strip()\n",
    "print(image_url)\n",
    "\n",
    "\n",
    "\n",
    "browser.close()\n"
   ]
  },
  {
   "cell_type": "code",
   "execution_count": 23,
   "metadata": {},
   "outputs": [
    {
     "name": "stdout",
     "output_type": "stream",
     "text": [
      "https://www.jpl.nasa.gov/spaceimages/images/mediumsize/PIA16815_ip.jpg\n",
      "https://www.jpl.nasa.gov/spaceimages/images/mediumsize/PIA16815_ip.jpg\n"
     ]
    }
   ],
   "source": [
    "print(image_url)\n",
    "image_url = image_url.strip()\n",
    "print(image_url)"
   ]
  },
  {
   "cell_type": "code",
   "execution_count": 4,
   "metadata": {},
   "outputs": [
    {
     "name": "stdout",
     "output_type": "stream",
     "text": [
      "InSight sol 518 (2020-05-11) low -93.3ºC (-135.9ºF) high -0.9ºC (30.4ºF)\n",
      "winds from the SW at 4.9 m/s (11.1 mph) gusting to 16.0 m/s (35.7 mph)\n",
      "pressure at 6.90 hPa\n"
     ]
    }
   ],
   "source": [
    "# Get Mars Weather\n",
    "driver_path = r'/Users/apounds/Desktop/Bootcamp/Notes/chromedriver'\n",
    "browser = webdriver.Chrome(executable_path=driver_path)\n",
    "browser.get(\"https://twitter.com/marswxreport?lang=en\")\n",
    "\n",
    "time.sleep(2)\n",
    "get_element = browser.find_elements_by_class_name(\"css-1dbjc4n\")\n",
    "# for i in range(0,len(get_element)-1):\n",
    "#     print(f\"#{i} = {get_element[i].get_attribute('innerHTML')}\")\n",
    "#     print(\" \")\n",
    "#     print(\" \")\n",
    "time.sleep(2)\n",
    "twitter_html = get_element[137].get_attribute('innerHTML')\n",
    "time.sleep(2)\n",
    "twittersoup = bs(twitter_html, 'html.parser')\n",
    "time.sleep(2)\n",
    "tweet = twittersoup.find('span').text.strip()\n",
    "\n",
    "\n",
    "print(tweet)\n",
    "\n",
    "\n",
    "browser.close()\n"
   ]
  },
  {
   "cell_type": "code",
   "execution_count": 52,
   "metadata": {},
   "outputs": [
    {
     "name": "stdout",
     "output_type": "stream",
     "text": [
      "<table border=\"1\" class=\"dataframe\">\n",
      "  <thead>\n",
      "    <tr style=\"text-align: right;\">\n",
      "      <th></th>\n",
      "      <th>values</th>\n",
      "    </tr>\n",
      "  </thead>\n",
      "  <tbody>\n",
      "    <tr>\n",
      "      <th>Equatorial Diameter:</th>\n",
      "      <td>6,792 km</td>\n",
      "    </tr>\n",
      "    <tr>\n",
      "      <th>Polar Diameter:</th>\n",
      "      <td>6,752 km</td>\n",
      "    </tr>\n",
      "    <tr>\n",
      "      <th>Mass:</th>\n",
      "      <td>6.39 × 10^23 kg (0.11 Earths)</td>\n",
      "    </tr>\n",
      "    <tr>\n",
      "      <th>Moons:</th>\n",
      "      <td>2 (Phobos &amp; Deimos)</td>\n",
      "    </tr>\n",
      "    <tr>\n",
      "      <th>Orbit Distance:</th>\n",
      "      <td>227,943,824 km (1.38 AU)</td>\n",
      "    </tr>\n",
      "    <tr>\n",
      "      <th>Orbit Period:</th>\n",
      "      <td>687 days (1.9 years)</td>\n",
      "    </tr>\n",
      "    <tr>\n",
      "      <th>Surface Temperature:</th>\n",
      "      <td>-87 to -5 °C</td>\n",
      "    </tr>\n",
      "    <tr>\n",
      "      <th>First Record:</th>\n",
      "      <td>2nd millennium BC</td>\n",
      "    </tr>\n",
      "    <tr>\n",
      "      <th>Recorded By:</th>\n",
      "      <td>Egyptian astronomers</td>\n",
      "    </tr>\n",
      "  </tbody>\n",
      "</table>\n"
     ]
    }
   ],
   "source": [
    "# Get Mars Facts\n",
    "url_facts = 'https://space-facts.com/mars/'\n",
    "tables = pd.read_html(url_facts)\n",
    "facts_table = tables[0]\n",
    "\n",
    "facts_table.columns=[\"0\",\"values\"]\n",
    "\n",
    "facts_table = facts_table.set_index(\"0\")\n",
    "      \n",
    "html_facts = facts_table.to_html(index_names=False)\n",
    "print(html_facts)"
   ]
  },
  {
   "cell_type": "code",
   "execution_count": 6,
   "metadata": {},
   "outputs": [
    {
     "name": "stderr",
     "output_type": "stream",
     "text": [
      "C:\\Users\\apounds\\AppData\\Local\\Continuum\\anaconda3\\envs\\pythondata\\lib\\site-packages\\splinter\\driver\\webdriver\\__init__.py:525: FutureWarning: browser.find_link_by_partial_text is deprecated. Use browser.links.find_by_partial_text instead.\n",
      "  warnings.warn(\n"
     ]
    },
    {
     "name": "stdout",
     "output_type": "stream",
     "text": [
      "[{'title': 'Cerberus Hemisphere', 'img_url': 'https://astrogeology.usgs.gov/cache/images/f5e372a36edfa389625da6d0cc25d905_cerberus_enhanced.tif_full.jpg'}, {'title': 'Schiaparelli Hemisphere', 'img_url': 'https://astrogeology.usgs.gov/cache/images/3778f7b43bbbc89d6e3cfabb3613ba93_schiaparelli_enhanced.tif_full.jpg'}, {'title': 'Syrtis Major Hemisphere', 'img_url': 'https://astrogeology.usgs.gov/cache/images/555e6403a6ddd7ba16ddb0e471cadcf7_syrtis_major_enhanced.tif_full.jpg'}, {'title': 'Valles Marineris Hemisphere', 'img_url': 'https://astrogeology.usgs.gov/cache/images/b3c7c6c9138f57b4756be9b9c43e3a48_valles_marineris_enhanced.tif_full.jpg'}]\n"
     ]
    }
   ],
   "source": [
    "# Get Mars Hemispheres\n",
    "hemis_list = [\"Cerberus Hemisphere\", \"Schiaparelli Hemisphere\", \"Syrtis Major Hemisphere\", \"Valles Marineris Hemisphere\"]\n",
    "\n",
    "img_url_list=[]\n",
    "name_list = []\n",
    "\n",
    "for item in hemis_list:\n",
    "    executable_path = {'executable_path': '/Users/apounds/Desktop/Bootcamp/Notes/chromedriver'}\n",
    "    browser = Browser('chrome', **executable_path, headless=False)\n",
    "    url_hemi = 'https://astrogeology.usgs.gov/search/results?q=hemisphere+enhanced&k1=target&v1=Mars'\n",
    "    browser.visit(url_hemi)\n",
    "    browser.click_link_by_partial_text(item)\n",
    "    \n",
    "    html_hemis = browser.html\n",
    "    soup_hemis = bs(html_hemis, 'lxml')\n",
    "    img = soup_hemis.body.find_all(class_=\"wide-image\")\n",
    "    img = img[0].attrs['src']\n",
    "    img_url_list.append(\"https://astrogeology.usgs.gov\"+img)\n",
    "    name = soup_hemis.body.find_all('h2')\n",
    "    name = name[0].text.strip()\n",
    "    name = name.replace(\" Enhanced\",\"\")\n",
    "    name_list.append(name)\n",
    "\n",
    "        \n",
    "hemi_dict=[\n",
    "    {\"title\": name_list[0], \"img_url\":img_url_list[0]},\n",
    "    {\"title\": name_list[1], \"img_url\":img_url_list[1]},\n",
    "    {\"title\": name_list[2], \"img_url\":img_url_list[2]},\n",
    "    {\"title\": name_list[3], \"img_url\":img_url_list[3]},\n",
    "]\n",
    "print(hemi_dict)\n"
   ]
  },
  {
   "cell_type": "code",
   "execution_count": 14,
   "metadata": {},
   "outputs": [
    {
     "data": {
      "text/plain": [
       "{'NewsTitle': \"NASA's Perseverance Rover Mission Getting in Shape for Launch\",\n",
       " 'NewsText': 'Stacking spacecraft components on top of each other is one of the final assembly steps before a mission launches to the Red Planet.',\n",
       " 'JPL_Img': 'https://www.jpl.nasa.gov/spaceimages/images/mediumsize/PIA16815_ip.jpg',\n",
       " 'Weather': 'InSight sol 518 (2020-05-11) low -93.3ºC (-135.9ºF) high -0.9ºC (30.4ºF)\\nwinds from the SW at 4.9 m/s (11.1 mph) gusting to 16.0 m/s (35.7 mph)\\npressure at 6.90 hPa',\n",
       " 'Facts': '<table border=\"1\" class=\"dataframe\">\\n  <thead>\\n    <tr style=\"text-align: right;\">\\n      <th></th>\\n      <th>0</th>\\n      <th>1</th>\\n    </tr>\\n  </thead>\\n  <tbody>\\n    <tr>\\n      <th>0</th>\\n      <td>Equatorial Diameter:</td>\\n      <td>6,792 km</td>\\n    </tr>\\n    <tr>\\n      <th>1</th>\\n      <td>Polar Diameter:</td>\\n      <td>6,752 km</td>\\n    </tr>\\n    <tr>\\n      <th>2</th>\\n      <td>Mass:</td>\\n      <td>6.39 × 10^23 kg (0.11 Earths)</td>\\n    </tr>\\n    <tr>\\n      <th>3</th>\\n      <td>Moons:</td>\\n      <td>2 (Phobos &amp; Deimos)</td>\\n    </tr>\\n    <tr>\\n      <th>4</th>\\n      <td>Orbit Distance:</td>\\n      <td>227,943,824 km (1.38 AU)</td>\\n    </tr>\\n    <tr>\\n      <th>5</th>\\n      <td>Orbit Period:</td>\\n      <td>687 days (1.9 years)</td>\\n    </tr>\\n    <tr>\\n      <th>6</th>\\n      <td>Surface Temperature:</td>\\n      <td>-87 to -5 °C</td>\\n    </tr>\\n    <tr>\\n      <th>7</th>\\n      <td>First Record:</td>\\n      <td>2nd millennium BC</td>\\n    </tr>\\n    <tr>\\n      <th>8</th>\\n      <td>Recorded By:</td>\\n      <td>Egyptian astronomers</td>\\n    </tr>\\n  </tbody>\\n</table>',\n",
       " 'Hemis1Name': 'Cerberus Hemisphere',\n",
       " 'Hemis1URL': 'https://astrogeology.usgs.gov/cache/images/f5e372a36edfa389625da6d0cc25d905_cerberus_enhanced.tif_full.jpg',\n",
       " 'Hemis2Name': 'Schiaparelli Hemisphere',\n",
       " 'Hemis2URL': 'https://astrogeology.usgs.gov/cache/images/3778f7b43bbbc89d6e3cfabb3613ba93_schiaparelli_enhanced.tif_full.jpg',\n",
       " 'Hemis3Name': 'Syrtis Major Hemisphere',\n",
       " 'Hemis3URL': 'https://astrogeology.usgs.gov/cache/images/555e6403a6ddd7ba16ddb0e471cadcf7_syrtis_major_enhanced.tif_full.jpg',\n",
       " 'Hemis4Name': 'Valles Marineris Hemisphere',\n",
       " 'Hemis4URL': 'https://astrogeology.usgs.gov/cache/images/b3c7c6c9138f57b4756be9b9c43e3a48_valles_marineris_enhanced.tif_full.jpg'}"
      ]
     },
     "execution_count": 14,
     "metadata": {},
     "output_type": "execute_result"
    }
   ],
   "source": [
    "data={}\n",
    "\n",
    "data[\"NewsTitle\"] = NASA_News_Title\n",
    "data[\"NewsText\"] = NASA_News_Paragraph\n",
    "data[\"JPL_Img\"] = image_url\n",
    "data[\"Weather\"] = tweet\n",
    "data[\"Facts\"] = html_facts\n",
    "data[\"Hemis1Name\"] = hemi_dict[0][\"title\"]\n",
    "data[\"Hemis1URL\"] = hemi_dict[0][\"img_url\"]\n",
    "data[\"Hemis2Name\"] = hemi_dict[1][\"title\"]\n",
    "data[\"Hemis2URL\"] = hemi_dict[1][\"img_url\"]\n",
    "data[\"Hemis3Name\"] = hemi_dict[2][\"title\"]\n",
    "data[\"Hemis3URL\"] = hemi_dict[2][\"img_url\"]\n",
    "data[\"Hemis4Name\"] = hemi_dict[3][\"title\"]\n",
    "data[\"Hemis4URL\"] = hemi_dict[3][\"img_url\"]\n",
    "\n",
    "\n",
    "data"
   ]
  },
  {
   "cell_type": "code",
   "execution_count": null,
   "metadata": {},
   "outputs": [],
   "source": []
  }
 ],
 "metadata": {
  "kernelspec": {
   "display_name": "Python 3",
   "language": "python",
   "name": "python3"
  },
  "language_info": {
   "codemirror_mode": {
    "name": "ipython",
    "version": 3
   },
   "file_extension": ".py",
   "mimetype": "text/x-python",
   "name": "python",
   "nbconvert_exporter": "python",
   "pygments_lexer": "ipython3",
   "version": "3.8.2"
  },
  "varInspector": {
   "cols": {
    "lenName": 16,
    "lenType": 16,
    "lenVar": 40
   },
   "kernels_config": {
    "python": {
     "delete_cmd_postfix": "",
     "delete_cmd_prefix": "del ",
     "library": "var_list.py",
     "varRefreshCmd": "print(var_dic_list())"
    },
    "r": {
     "delete_cmd_postfix": ") ",
     "delete_cmd_prefix": "rm(",
     "library": "var_list.r",
     "varRefreshCmd": "cat(var_dic_list()) "
    }
   },
   "types_to_exclude": [
    "module",
    "function",
    "builtin_function_or_method",
    "instance",
    "_Feature"
   ],
   "window_display": false
  }
 },
 "nbformat": 4,
 "nbformat_minor": 2
}
